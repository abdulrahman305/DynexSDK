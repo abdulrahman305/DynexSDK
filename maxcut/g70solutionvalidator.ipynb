{
 "cells": [
  {
   "cell_type": "markdown",
   "id": "62754468-ad40-4614-af45-4c1da84cafce",
   "metadata": {},
   "source": [
    "# G70 Solution Validation"
   ]
  },
  {
   "cell_type": "code",
   "execution_count": 3,
   "id": "9338db27-6aab-4879-b2ed-4049ab55a77a",
   "metadata": {},
   "outputs": [],
   "source": [
    "import networkx as nx\n",
    "import pickle"
   ]
  },
  {
   "cell_type": "code",
   "execution_count": 4,
   "id": "2fba6a1b-6745-4052-82bf-5a2db2e3586f",
   "metadata": {},
   "outputs": [],
   "source": [
    "filename = 'G70.dat' \n",
    "solution = 'maxcut_best_9553.pkl'"
   ]
  },
  {
   "cell_type": "code",
   "execution_count": 6,
   "id": "d51e3ab1-e6ef-41bc-9624-58d96257605e",
   "metadata": {},
   "outputs": [],
   "source": [
    "# load g70 problem\n",
    "G = nx.Graph();\n",
    "f = open(filename, \"r\").readlines()\n",
    "for ele in f[1:]:\n",
    "    i, j, v = ele.split()\n",
    "    G.add_edges_from([(int(i),int(j))])"
   ]
  },
  {
   "cell_type": "code",
   "execution_count": 9,
   "id": "32c42976-f40c-458b-a215-fffd10d716cf",
   "metadata": {},
   "outputs": [],
   "source": [
    "# load solution\n",
    "with open(solution,'rb') as inp:\n",
    "    lut = pickle.load(inp)"
   ]
  },
  {
   "cell_type": "code",
   "execution_count": 10,
   "id": "47049838-4462-4120-b2e4-b5ed34bf959e",
   "metadata": {},
   "outputs": [
    {
     "name": "stdout",
     "output_type": "stream",
     "text": [
      "Maxcut result: 9553\n"
     ]
    }
   ],
   "source": [
    "# Validate cut result:\n",
    "S0 = [node for node in G.nodes if not lut['X['+str(node)+']']]\n",
    "S1 = [node for node in G.nodes if lut['X['+str(node)+']']]\n",
    "cut_edges = [(u, v) for u, v in G.edges if lut['X['+str(u)+']'] != lut['X['+str(v)+']']]\n",
    "uncut_edges = [(u, v) for u, v in G.edges if lut['X['+str(u)+']'] == lut['X['+str(v)+']']]\n",
    "\n",
    "print('Maxcut result:',len(cut_edges))"
   ]
  },
  {
   "cell_type": "code",
   "execution_count": null,
   "id": "069ccf7a-64a2-4893-88c9-d44bf8df795c",
   "metadata": {},
   "outputs": [],
   "source": []
  }
 ],
 "metadata": {
  "kernelspec": {
   "display_name": "Python 3 (ipykernel)",
   "language": "python",
   "name": "python3"
  },
  "language_info": {
   "codemirror_mode": {
    "name": "ipython",
    "version": 3
   },
   "file_extension": ".py",
   "mimetype": "text/x-python",
   "name": "python",
   "nbconvert_exporter": "python",
   "pygments_lexer": "ipython3",
   "version": "3.10.12"
  }
 },
 "nbformat": 4,
 "nbformat_minor": 5
}
