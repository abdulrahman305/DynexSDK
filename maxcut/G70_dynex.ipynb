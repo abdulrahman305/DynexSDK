{
 "cells": [
  {
   "cell_type": "markdown",
   "id": "b1d46f80-d8b2-4620-a229-b1ec7ecc96d1",
   "metadata": {},
   "source": [
    "# Dynex G70"
   ]
  },
  {
   "cell_type": "code",
   "execution_count": 1,
   "id": "ae571cab-ac73-4de0-9443-a4cdf076186a",
   "metadata": {},
   "outputs": [],
   "source": [
    "import dynex\n",
    "import networkx as nx\n",
    "import matplotlib\n",
    "from matplotlib import pyplot as plt\n",
    "from collections import defaultdict\n",
    "import numpy as np\n",
    "import dimod\n",
    "from pyqubo import Spin, Array\n",
    "from time import sleep\n",
    "import pickle"
   ]
  },
  {
   "cell_type": "code",
   "execution_count": 2,
   "id": "8fe7e9bb-7960-4c8f-8428-2a42b8bd9c77",
   "metadata": {},
   "outputs": [],
   "source": [
    "filename = 'G70.dat' "
   ]
  },
  {
   "cell_type": "markdown",
   "id": "4dc78516-61b3-484f-a2d9-00efa8898e69",
   "metadata": {},
   "source": [
    "## Load Graph from File"
   ]
  },
  {
   "cell_type": "code",
   "execution_count": 3,
   "id": "7280a7e3-bc19-4e8f-8323-995f33f6d54b",
   "metadata": {},
   "outputs": [],
   "source": [
    "# build graph from file:\n",
    "G = nx.Graph();\n",
    "f = open(filename, \"r\").readlines()\n",
    "for ele in f[1:]:\n",
    "    i, j, v = ele.split()\n",
    "    G.add_edges_from([(int(i),int(j))])"
   ]
  },
  {
   "cell_type": "markdown",
   "id": "3b51b811-d823-41fc-b9c2-73567dd17b47",
   "metadata": {},
   "source": [
    "## Construct QUBO"
   ]
  },
  {
   "cell_type": "code",
   "execution_count": 4,
   "id": "75bd92dd-d945-4487-a3a8-b1217262e517",
   "metadata": {},
   "outputs": [],
   "source": [
    "n = 10001 \n",
    "X = Array.create('X', n, vartype='SPIN')\n",
    "H0 = 0\n",
    "for (u,v) in G.edges:\n",
    "    H0 -= (1-X[u]*X[v])/2.0"
   ]
  },
  {
   "cell_type": "code",
   "execution_count": 5,
   "id": "440b74cd-4837-4d6e-b749-2838f08ec7a5",
   "metadata": {},
   "outputs": [],
   "source": [
    "model = H0.compile()"
   ]
  },
  {
   "cell_type": "code",
   "execution_count": 6,
   "id": "6a2f14d3-5f1f-427d-8640-29f499b375ed",
   "metadata": {},
   "outputs": [
    {
     "name": "stdout",
     "output_type": "stream",
     "text": [
      "bqm was normalized with factor 0.1111111111111111\n"
     ]
    }
   ],
   "source": [
    "bqm = model.to_bqm()\n",
    "factor = bqm.normalize()\n",
    "print('bqm was normalized with factor',factor)"
   ]
  },
  {
   "cell_type": "markdown",
   "id": "e89f57fa-168c-4159-95db-e84eda51a8db",
   "metadata": {},
   "source": [
    "## Sample Sweep"
   ]
  },
  {
   "cell_type": "code",
   "execution_count": 7,
   "id": "34bbfdfc-5962-4bb7-b6b1-e24085051004",
   "metadata": {},
   "outputs": [],
   "source": [
    "best_cut = 0\n",
    "best_sol = [];"
   ]
  },
  {
   "cell_type": "code",
   "execution_count": null,
   "id": "204b7053-ea1b-464a-ab04-8cddce941450",
   "metadata": {
    "tags": []
   },
   "outputs": [],
   "source": [
    "all_sol = [];\n",
    "\n",
    "for i in range(1,10000000):\n",
    "    # Sample on Dynex\n",
    "    print('Sweep',i,'...');\n",
    "    sampleset = dynex.sample(bqm, mainnet=True, num_reads=20000, annealing_time = 120000, logging=False)\n",
    "    e = sampleset.first.energy/factor;\n",
    "    if e < best_cut:\n",
    "        best_cut = e;\n",
    "        best_sol = sampleset.first;\n",
    "        print('IMPROVED CUT FOUND:',best_cut);\n",
    "        # save solution locally:\n",
    "        with open('maxcut_best_'+str(round(abs(e)))+'.pkl','wb') as outp:\n",
    "            pickle.dump(best_sol.sample, outp)\n",
    "    all_sol.append(e);\n",
    "    print('Sweep',i,'cut:',e,'best cut:',best_cut, 'all:',all_sol)"
   ]
  },
  {
   "cell_type": "code",
   "execution_count": 8,
   "id": "c97c827b-1529-4c40-a839-51e9c365763d",
   "metadata": {},
   "outputs": [],
   "source": [
    "# load best solution:\n",
    "with open('maxcut_best_9506.pkl','rb') as inp:\n",
    "    x = pickle.load(inp)"
   ]
  },
  {
   "cell_type": "code",
   "execution_count": 9,
   "id": "9b42d5ca-03a1-4477-9333-c4db1dbac9ed",
   "metadata": {},
   "outputs": [
    {
     "name": "stdout",
     "output_type": "stream",
     "text": [
      "Maxcut result: 9506\n"
     ]
    }
   ],
   "source": [
    "# Validate cut result:\n",
    "lut = x\n",
    "\n",
    "# Interpret best result in terms of nodes and edges\n",
    "S0 = [node for node in G.nodes if not lut['X['+str(node)+']']]\n",
    "S1 = [node for node in G.nodes if lut['X['+str(node)+']']]\n",
    "cut_edges = [(u, v) for u, v in G.edges if lut['X['+str(u)+']'] != lut['X['+str(v)+']']]\n",
    "uncut_edges = [(u, v) for u, v in G.edges if lut['X['+str(u)+']'] == lut['X['+str(v)+']']]\n",
    "\n",
    "print('Maxcut result:',len(cut_edges))"
   ]
  }
 ],
 "metadata": {
  "kernelspec": {
   "display_name": "Python 3",
   "language": "python",
   "name": "python3"
  },
  "language_info": {
   "codemirror_mode": {
    "name": "ipython",
    "version": 3
   },
   "file_extension": ".py",
   "mimetype": "text/x-python",
   "name": "python",
   "nbconvert_exporter": "python",
   "pygments_lexer": "ipython3",
   "version": "3.8.8"
  }
 },
 "nbformat": 4,
 "nbformat_minor": 5
}
