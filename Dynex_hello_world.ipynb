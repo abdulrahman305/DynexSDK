{
 "cells": [
  {
   "cell_type": "markdown",
   "id": "dab9797a-d695-430d-9345-801697b584db",
   "metadata": {},
   "source": [
    "# Dynex SDK Hello World"
   ]
  },
  {
   "cell_type": "markdown",
   "id": "b517e256-bc9d-4702-9d16-59e2cafe8b45",
   "metadata": {},
   "source": [
    "To get started, please follow the following steps:"
   ]
  },
  {
   "cell_type": "markdown",
   "id": "8e2f44d6-b5c8-4994-969e-db07b9a61102",
   "metadata": {},
   "source": [
    "1. Create your free Dynex account at https://platform.dynex.co/en/auth/signup"
   ]
  },
  {
   "cell_type": "markdown",
   "id": "7a062aaf-a78a-4ab2-a138-144338e91bfc",
   "metadata": {},
   "source": [
    "2. Download your dynex.ini and copy it into the main directory of your Jupyter lab (drag and drop)"
   ]
  },
  {
   "cell_type": "markdown",
   "id": "80f28a52-673c-4e7f-85b1-38f58eadbc52",
   "metadata": {},
   "source": [
    "3. Run the cells below"
   ]
  },
  {
   "cell_type": "code",
   "execution_count": null,
   "id": "ce9c9138-5168-49a6-953b-69dd0c2cd297",
   "metadata": {},
   "outputs": [],
   "source": [
    "import dynex\n",
    "import dimod\n",
    "from pyqubo import Array"
   ]
  },
  {
   "cell_type": "markdown",
   "id": "e3d50bf1-174a-49a2-8e4a-4b38d755e3b9",
   "metadata": {},
   "source": [
    "## Verify Version of Dynex SDK"
   ]
  },
  {
   "cell_type": "code",
   "execution_count": null,
   "id": "cf95e0fb-fd5e-42ef-a802-eaf70fb5eee7",
   "metadata": {},
   "outputs": [],
   "source": [
    "dynex.__version__"
   ]
  },
  {
   "cell_type": "markdown",
   "id": "bc8795b4-bfd8-486e-b2e0-d98785b2aa49",
   "metadata": {},
   "source": [
    "## Test your configuration"
   ]
  },
  {
   "cell_type": "markdown",
   "id": "2e763f4f-d24f-4ca7-93a3-cdab70950a0a",
   "metadata": {},
   "source": [
    "Successful run is required to start sampling with the Dynex SDK"
   ]
  },
  {
   "cell_type": "code",
   "execution_count": null,
   "id": "442e7b70-7213-430c-82ef-5b165d1f382a",
   "metadata": {},
   "outputs": [],
   "source": [
    "dynex.test()"
   ]
  },
  {
   "cell_type": "markdown",
   "id": "1e49bfb6-7181-46e1-85a2-af8c051d9139",
   "metadata": {},
   "source": [
    "## Create a simple QUBO formulation"
   ]
  },
  {
   "cell_type": "code",
   "execution_count": null,
   "id": "aebae30f-3fd8-4f3a-9cd2-bbc9281be89a",
   "metadata": {},
   "outputs": [],
   "source": [
    "N = 15\n",
    "K = 3\n",
    "numbers = [4.8097315016016315, 4.325157567810298, 2.9877429101815127,\n",
    "           3.199880179616316, 0.5787939511978596, 1.2520928214246918,\n",
    "           2.262867466401502, 1.2300003067401255, 2.1601079352817925,\n",
    "           3.63753899583021, 4.598232793833491, 2.6215815162575646,\n",
    "           3.4227134835783364, 0.28254151584552023, 4.2548151473817075]\n",
    "\n",
    "q = Array.create('q', N, 'BINARY')\n",
    "H = sum(numbers[i] * q[i] for i in range(N)) + 5.0 * (sum(q) - K)**2\n",
    "model = H.compile()\n",
    "Q, offset = model.to_qubo(index_label=True)"
   ]
  },
  {
   "cell_type": "code",
   "execution_count": null,
   "id": "d3f7fb3c-69f0-4078-92d7-1910533744b0",
   "metadata": {},
   "outputs": [],
   "source": [
    "# BQM from QUBO:\n",
    "bqm = dimod.BinaryQuadraticModel.from_qubo(Q, offset)"
   ]
  },
  {
   "cell_type": "markdown",
   "id": "d82490d8-17f9-47c5-a0a2-84bcc6611939",
   "metadata": {},
   "source": [
    "## Sample on Dynex"
   ]
  },
  {
   "cell_type": "code",
   "execution_count": null,
   "id": "9c390424-e2ed-4c12-8d3c-12ce9a86d4af",
   "metadata": {},
   "outputs": [],
   "source": [
    "model = dynex.BQM(bqm);\n",
    "sampler = dynex.DynexSampler(model,  mainnet=False, description='Dynex SDK test');\n",
    "sampleset = sampler.sample(num_reads=1000, annealing_time = 200, debugging=False);\n",
    "print('Result:')\n",
    "print(sampleset)"
   ]
  }
 ],
 "metadata": {
  "kernelspec": {
   "display_name": "Python 3 (ipykernel)",
   "language": "python",
   "name": "python3"
  },
  "language_info": {
   "codemirror_mode": {
    "name": "ipython",
    "version": 3
   },
   "file_extension": ".py",
   "mimetype": "text/x-python",
   "name": "python",
   "nbconvert_exporter": "python",
   "pygments_lexer": "ipython3",
   "version": "3.9.16"
  }
 },
 "nbformat": 4,
 "nbformat_minor": 5
}
