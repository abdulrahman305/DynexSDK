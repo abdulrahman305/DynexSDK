{
 "cells": [
  {
   "cell_type": "markdown",
   "id": "1fa94d56-57dd-4cc6-beda-9100e769ee4f",
   "metadata": {},
   "source": [
    "# Dynex SDK - nBit Adder Native Gate Circuit Example"
   ]
  },
  {
   "cell_type": "code",
   "execution_count": 1,
   "id": "70530abf-395d-451b-960a-786a3f1cdae2",
   "metadata": {},
   "outputs": [
    {
     "ename": "ValueError",
     "evalue": "Backend 'aer_simulator' supports maximum 31 wires",
     "output_type": "error",
     "traceback": [
      "\u001b[0;31m---------------------------------------------------------------------------\u001b[0m",
      "\u001b[0;31mValueError\u001b[0m                                Traceback (most recent call last)",
      "Cell \u001b[0;32mIn[1], line 34\u001b[0m\n\u001b[1;32m     31\u001b[0m         \u001b[38;5;28;01mreturn\u001b[39;00m qml\u001b[38;5;241m.\u001b[39msample()  \u001b[38;5;66;03m# Use sampling instead\u001b[39;00m\n\u001b[1;32m     33\u001b[0m \u001b[38;5;66;03m# Set up the Qiskit Aer device\u001b[39;00m\n\u001b[0;32m---> 34\u001b[0m dev \u001b[38;5;241m=\u001b[39m \u001b[43mAerDevice\u001b[49m\u001b[43m(\u001b[49m\u001b[43mwires\u001b[49m\u001b[38;5;241;43m=\u001b[39;49m\u001b[43mwires\u001b[49m\u001b[43m)\u001b[49m\n\u001b[1;32m     36\u001b[0m \u001b[38;5;66;03m# Run the circuit on the device\u001b[39;00m\n\u001b[1;32m     37\u001b[0m \u001b[38;5;129m@qml\u001b[39m\u001b[38;5;241m.\u001b[39mqnode(dev)\n\u001b[1;32m     38\u001b[0m \u001b[38;5;28;01mdef\u001b[39;00m \u001b[38;5;21mcircuit\u001b[39m():\n",
      "File \u001b[0;32m/usr/local/lib/python3.10/dist-packages/pennylane_qiskit/aer.py:63\u001b[0m, in \u001b[0;36mAerDevice.__init__\u001b[0;34m(self, wires, shots, backend, method, **kwargs)\u001b[0m\n\u001b[1;32m     60\u001b[0m \u001b[38;5;28;01mif\u001b[39;00m method \u001b[38;5;241m!=\u001b[39m \u001b[38;5;124m\"\u001b[39m\u001b[38;5;124mautomatic\u001b[39m\u001b[38;5;124m\"\u001b[39m:\n\u001b[1;32m     61\u001b[0m     backend \u001b[38;5;241m+\u001b[39m\u001b[38;5;241m=\u001b[39m \u001b[38;5;124m\"\u001b[39m\u001b[38;5;124m_\u001b[39m\u001b[38;5;124m\"\u001b[39m \u001b[38;5;241m+\u001b[39m method\n\u001b[0;32m---> 63\u001b[0m \u001b[38;5;28;43msuper\u001b[39;49m\u001b[43m(\u001b[49m\u001b[43m)\u001b[49m\u001b[38;5;241;43m.\u001b[39;49m\u001b[38;5;21;43m__init__\u001b[39;49m\u001b[43m(\u001b[49m\u001b[43mwires\u001b[49m\u001b[43m,\u001b[49m\u001b[43m \u001b[49m\u001b[43mprovider\u001b[49m\u001b[38;5;241;43m=\u001b[39;49m\u001b[43mqiskit_aer\u001b[49m\u001b[38;5;241;43m.\u001b[39;49m\u001b[43mAer\u001b[49m\u001b[43m,\u001b[49m\u001b[43m \u001b[49m\u001b[43mbackend\u001b[49m\u001b[38;5;241;43m=\u001b[39;49m\u001b[43mbackend\u001b[49m\u001b[43m,\u001b[49m\u001b[43m \u001b[49m\u001b[43mshots\u001b[49m\u001b[38;5;241;43m=\u001b[39;49m\u001b[43mshots\u001b[49m\u001b[43m,\u001b[49m\u001b[43m \u001b[49m\u001b[38;5;241;43m*\u001b[39;49m\u001b[38;5;241;43m*\u001b[39;49m\u001b[43mkwargs\u001b[49m\u001b[43m)\u001b[49m\n",
      "File \u001b[0;32m/usr/local/lib/python3.10/dist-packages/pennylane_qiskit/qiskit_device.py:190\u001b[0m, in \u001b[0;36mQiskitDevice.__init__\u001b[0;34m(self, wires, provider, backend, shots, **kwargs)\u001b[0m\n\u001b[1;32m    184\u001b[0m backend_qubits \u001b[38;5;241m=\u001b[39m (\n\u001b[1;32m    185\u001b[0m     backend\u001b[38;5;241m.\u001b[39mnum_qubits\n\u001b[1;32m    186\u001b[0m     \u001b[38;5;28;01mif\u001b[39;00m \u001b[38;5;28misinstance\u001b[39m(backend, BackendV2)\n\u001b[1;32m    187\u001b[0m     \u001b[38;5;28;01melse\u001b[39;00m \u001b[38;5;28mself\u001b[39m\u001b[38;5;241m.\u001b[39mbackend\u001b[38;5;241m.\u001b[39mconfiguration()\u001b[38;5;241m.\u001b[39mn_qubits\n\u001b[1;32m    188\u001b[0m )\n\u001b[1;32m    189\u001b[0m \u001b[38;5;28;01mif\u001b[39;00m backend_qubits \u001b[38;5;129;01mand\u001b[39;00m \u001b[38;5;28mlen\u001b[39m(\u001b[38;5;28mself\u001b[39m\u001b[38;5;241m.\u001b[39mwires) \u001b[38;5;241m>\u001b[39m \u001b[38;5;28mint\u001b[39m(backend_qubits):\n\u001b[0;32m--> 190\u001b[0m     \u001b[38;5;28;01mraise\u001b[39;00m \u001b[38;5;167;01mValueError\u001b[39;00m(\u001b[38;5;124mf\u001b[39m\u001b[38;5;124m\"\u001b[39m\u001b[38;5;124mBackend \u001b[39m\u001b[38;5;124m'\u001b[39m\u001b[38;5;132;01m{\u001b[39;00mbackend\u001b[38;5;132;01m}\u001b[39;00m\u001b[38;5;124m'\u001b[39m\u001b[38;5;124m supports maximum \u001b[39m\u001b[38;5;132;01m{\u001b[39;00mbackend_qubits\u001b[38;5;132;01m}\u001b[39;00m\u001b[38;5;124m wires\u001b[39m\u001b[38;5;124m\"\u001b[39m)\n\u001b[1;32m    192\u001b[0m \u001b[38;5;66;03m# Initialize inner state\u001b[39;00m\n\u001b[1;32m    193\u001b[0m \u001b[38;5;28mself\u001b[39m\u001b[38;5;241m.\u001b[39mreset()\n",
      "\u001b[0;31mValueError\u001b[0m: Backend 'aer_simulator' supports maximum 31 wires"
     ]
    }
   ],
   "source": [
    "import pennylane as qml\n",
    "import numpy as np\n",
    "from pennylane_qiskit import AerDevice\n",
    "\n",
    "# Parameters to add\n",
    "params = [3123456789 , 987654321 ]\n",
    "\n",
    "# Calculate the number of qubits\n",
    "def Nqubits(a, b):\n",
    "    mxVal = a + b\n",
    "    return mxVal.bit_length()\n",
    "\n",
    "wires = Nqubits(*params)\n",
    "\n",
    "# Define the Kfourier function\n",
    "def Kfourier(k, wires):\n",
    "    for j in range(len(wires)):\n",
    "        qml.RZ(k * np.pi / (2**j), wires=wires[j])\n",
    "\n",
    "# FullAdder circuit\n",
    "def FullAdder(params, state=False):  # Change to `state=False` to use sampling\n",
    "    a, b = params\n",
    "    wires = Nqubits(a, b)\n",
    "    qml.BasisEmbedding(a, wires=range(wires))\n",
    "    qml.QFT(wires=range(wires))\n",
    "    Kfourier(b, range(wires))\n",
    "    qml.adjoint(qml.QFT)(wires=range(wires))\n",
    "    if state:\n",
    "        return qml.state()  # This may not be supported on the Qiskit Aer device\n",
    "    else:\n",
    "        return qml.sample()  # Use sampling instead\n",
    "\n",
    "# Set up the Qiskit Aer device\n",
    "dev = AerDevice(wires=wires)\n",
    "\n",
    "# Run the circuit on the device\n",
    "@qml.qnode(dev)\n",
    "def circuit():\n",
    "    return FullAdder(params)\n",
    "\n",
    "# draw circuit:\n",
    "_ = qml.draw_mpl(FullAdder, style=\"black_white\")(params)\n",
    "\n",
    "# Run the circuit and get the output (sample)\n",
    "output = circuit()"
   ]
  },
  {
   "cell_type": "code",
   "execution_count": null,
   "id": "ec79b7f7-b942-4cb8-88cc-ed331e5aa489",
   "metadata": {},
   "outputs": [],
   "source": [
    "bitStr = ''.join(map(str, output[0].astype(int)))\n",
    "dynexResult = int(bitStr, 2)\n",
    "print(\"Dynex Result:\", dynexResult)\n",
    "print(\"Expected Result:\", sum(params))\n",
    "isValidDynex = dynexResult == sum(params)\n",
    "print(\"Is Dynex Result Valid?\", isValidDynex)"
   ]
  },
  {
   "cell_type": "code",
   "execution_count": null,
   "id": "8cda2a1c-f9d9-40a9-8faa-d6e926a4cdd3",
   "metadata": {},
   "outputs": [],
   "source": []
  },
  {
   "cell_type": "code",
   "execution_count": null,
   "id": "5c108739-8081-4356-a03d-c0ed36ca9e3a",
   "metadata": {},
   "outputs": [],
   "source": []
  }
 ],
 "metadata": {
  "kernelspec": {
   "display_name": "Python 3 (ipykernel)",
   "language": "python",
   "name": "python3"
  },
  "language_info": {
   "codemirror_mode": {
    "name": "ipython",
    "version": 3
   },
   "file_extension": ".py",
   "mimetype": "text/x-python",
   "name": "python",
   "nbconvert_exporter": "python",
   "pygments_lexer": "ipython3",
   "version": "3.10.12"
  }
 },
 "nbformat": 4,
 "nbformat_minor": 5
}
