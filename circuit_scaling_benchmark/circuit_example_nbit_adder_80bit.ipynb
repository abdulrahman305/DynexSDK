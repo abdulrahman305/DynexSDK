{
 "cells": [
  {
   "cell_type": "markdown",
   "id": "1fa94d56-57dd-4cc6-beda-9100e769ee4f",
   "metadata": {},
   "source": [
    "# Dynex SDK - nBit Adder Native Gate Circuit Example"
   ]
  },
  {
   "cell_type": "markdown",
   "id": "d63e025d-8aeb-4840-ac69-cd6430043608",
   "metadata": {},
   "source": [
    "First we import the required packages:"
   ]
  },
  {
   "cell_type": "code",
   "execution_count": 1,
   "id": "3258cd0a-8fb4-4ce7-89a1-4120322ef52c",
   "metadata": {},
   "outputs": [],
   "source": [
    "import dynex\n",
    "from dynex import dynex_circuit\n",
    "from pennylane import numpy as np\n",
    "import pennylane as qml"
   ]
  },
  {
   "cell_type": "markdown",
   "id": "a4b4dad6-3b7d-4b17-93d5-4ab82c8b5aef",
   "metadata": {},
   "source": [
    "We define our circuit:"
   ]
  },
  {
   "cell_type": "code",
   "execution_count": 2,
   "id": "f1e789a4-612d-433f-95fb-43cebab281f8",
   "metadata": {},
   "outputs": [],
   "source": [
    "params = [28938284928182 , 312722366482869645212131] # two numbers to add\n",
    "\n",
    "def Nqubits(a, b):\n",
    "    mxVal = a + b\n",
    "    return mxVal.bit_length()\n",
    "\n",
    "wires = Nqubits(*params)\n",
    "\n",
    "def Kfourier(k, wires):\n",
    "    for j in range(len(wires)):\n",
    "        qml.RZ(k * np.pi / (2**j), wires=wires[j])\n",
    "\n",
    "def FullAdder(params, state=True):\n",
    "    a, b = params\n",
    "    wires = Nqubits(a, b)\n",
    "    qml.BasisEmbedding(a, wires=range(wires))\n",
    "    qml.QFT(wires=range(wires))\n",
    "    Kfourier(b, range(wires))\n",
    "    qml.adjoint(qml.QFT)(wires=range(wires))\n",
    "    if state:\n",
    "        return qml.state()\n",
    "    else:\n",
    "        return qml.sample()"
   ]
  },
  {
   "cell_type": "markdown",
   "id": "e37c1084-a8ad-48fe-8ad3-78dc49b3a55d",
   "metadata": {},
   "source": [
    "We draw the circuit:"
   ]
  },
  {
   "cell_type": "code",
   "execution_count": 3,
   "id": "5a8a1f3f-8984-49b6-a644-a0e403e25811",
   "metadata": {},
   "outputs": [
    {
     "name": "stdout",
     "output_type": "stream",
     "text": [
      "Cant't draw circuit with 79 wires\n"
     ]
    }
   ],
   "source": [
    "# draw circuit:\n",
    "# too large to draw _ = qml.draw_mpl(FullAdder, style=\"black_white\")(params)\n",
    "print(\"Cant't draw circuit with\",Nqubits(params[0],params[1]), \"wires\");"
   ]
  },
  {
   "cell_type": "markdown",
   "id": "8b9f9d7e-213e-40e3-9362-fd57faebab66",
   "metadata": {},
   "source": [
    "We execute and measure the circuit on the Dynex platform:"
   ]
  },
  {
   "cell_type": "code",
   "execution_count": 4,
   "id": "248c2c08-935c-49a1-a81f-ca03d23e3cc2",
   "metadata": {},
   "outputs": [
    {
     "name": "stdout",
     "output_type": "stream",
     "text": [
      "╭────────────┬──────────┬─────────────────┬─────────────┬───────────┬────────────────┬────────────┬─────────┬────────────────╮\n",
      "│   DYNEXJOB │   QUBITS │   QUANTUM GATES │   BLOCK FEE │   ELAPSED │   WORKERS READ │   CIRCUITS │   STEPS │   GROUND STATE │\n",
      "├────────────┼──────────┼─────────────────┼─────────────┼───────────┼────────────────┼────────────┼─────────┼────────────────┤\n",
      "│     201515 │      870 │            4451 │        0.00 │      1.08 │              1 │      10000 │    1024 │        1716.66 │\n",
      "╰────────────┴──────────┴─────────────────┴─────────────┴───────────┴────────────────┴────────────┴─────────┴────────────────╯\n",
      "╭────────────┬─────────────────┬────────────┬───────┬──────────┬──────────────┬─────────────────────────────┬───────────┬──────────╮\n",
      "│     WORKER │         VERSION │   CIRCUITS │   LOC │   ENERGY │      RUNTIME │                 LAST UPDATE │     STEPS │   STATUS │\n",
      "├────────────┼─────────────────┼────────────┼───────┼──────────┼──────────────┼─────────────────────────────┼───────────┼──────────┤\n",
      "│ 29a7..73e1 │ 2.3.5.OZM.134.L │      10000 │     0 │     0.00 │ 9.035619315s │ 2024-12-18T21:09:51.483251Z │ 0 (0.00%) │  \u001b[1;31mSTOPPED\u001b[0m │\n",
      "├────────────┼─────────────────┼────────────┼───────┼──────────┼──────────────┼─────────────────────────────┼───────────┼──────────┤\n",
      "│ 6fd4..25c8 │ 2.3.5.OZM.134.L │      10000 │     0 │     0.00 │ 5.843612407s │ 2024-12-18T21:09:54.675259Z │ 0 (0.00%) │  \u001b[1;31mSTOPPED\u001b[0m │\n",
      "├────────────┼─────────────────┼────────────┼───────┼──────────┼──────────────┼─────────────────────────────┼───────────┼──────────┤\n",
      "│ a3c1..8e95 │ 2.3.5.OZM.134.L │      10000 │     0 │     0.00 │ 8.448803045s │ 2024-12-18T21:09:52.070069Z │ 0 (0.00%) │  \u001b[1;31mSTOPPED\u001b[0m │\n",
      "├────────────┼─────────────────┼────────────┼───────┼──────────┼──────────────┼─────────────────────────────┼───────────┼──────────┤\n",
      "│ f02e..a825 │ 2.3.5.OZM.134.L │      10000 │     0 │     0.00 │ 5.292367668s │ 2024-12-18T21:09:55.226505Z │ 0 (0.00%) │  \u001b[1;31mSTOPPED\u001b[0m │\n",
      "╰────────────┴─────────────────┴────────────┴───────┴──────────┴──────────────┴─────────────────────────────┴───────────┴──────────╯\n",
      "[DYNEX] FINISHED READ AFTER 107.81 SECONDS\n",
      "[DYNEX] SAMPLESET READY\n",
      "Mesaure: [1 0 0 1 0 0 1 1 1 0 0 1 0 1 0 0 0 1 1 0 1 1 0 0 1 0 1 1 1 1 1 0 1 1 0 0 0\n",
      " 1 0 1 1 1 1 1 1 0 1 0 1 1 1 1 0 0 0 1 1 0 0 0 0 1 1 0 1 0 0 1 1 0 0 1]\n"
     ]
    }
   ],
   "source": [
    "# Execute the circuit on Dynex:\n",
    "measure = dynex_circuit.execute(FullAdder, params, wires, mainnet=True, method='measure',\n",
    "                                num_reads=10000, integration_steps=1024, is_cluster=True, cluster_type=0)\n",
    "print('Mesaure:',measure)"
   ]
  },
  {
   "cell_type": "code",
   "execution_count": 5,
   "id": "551c3416-bbc8-4bca-bb77-ef3622e1dade",
   "metadata": {},
   "outputs": [
    {
     "name": "stdout",
     "output_type": "stream",
     "text": [
      "Dynex Result: 2722366511807930140313\n",
      "Expected Result: 2722366511807930140313\n",
      "Is Dynex Result Valid? True\n"
     ]
    }
   ],
   "source": [
    "bitStr = ''.join(map(str, measure.astype(int)))\n",
    "dynexResult = int(bitStr, 2)\n",
    "print(\"Dynex Result:\", dynexResult)\n",
    "print(\"Expected Result:\", sum(params))\n",
    "isValidDynex = dynexResult == sum(params)\n",
    "print(\"Is Dynex Result Valid?\", isValidDynex)"
   ]
  },
  {
   "cell_type": "code",
   "execution_count": null,
   "id": "36f7e2d2-6a43-4d5b-96ed-c7b6a1a336dd",
   "metadata": {},
   "outputs": [],
   "source": []
  }
 ],
 "metadata": {
  "kernelspec": {
   "display_name": "Python 3 (ipykernel)",
   "language": "python",
   "name": "python3"
  },
  "language_info": {
   "codemirror_mode": {
    "name": "ipython",
    "version": 3
   },
   "file_extension": ".py",
   "mimetype": "text/x-python",
   "name": "python",
   "nbconvert_exporter": "python",
   "pygments_lexer": "ipython3",
   "version": "3.10.12"
  }
 },
 "nbformat": 4,
 "nbformat_minor": 5
}
