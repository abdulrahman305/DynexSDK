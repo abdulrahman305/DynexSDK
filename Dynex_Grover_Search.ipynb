{
 "cells": [
  {
   "cell_type": "markdown",
   "id": "85c5ecda-b216-4d8e-928c-d3e4ea55fe91",
   "metadata": {},
   "source": [
    "# Dynex Grover Search Example"
   ]
  },
  {
   "cell_type": "markdown",
   "id": "6afc03ae-3d35-4384-9b68-e367942be174",
   "metadata": {},
   "source": [
    "Grover's search algorithm is a quantum algorithm designed to search an unsorted database or solve unstructured search problems with quadratic speedup compared to classical algorithms. In classical computing, finding a specific item in an unsorted list of N items requires O(N) time in the worst case. Grover's algorithm, however, can accomplish this task in O(√N) time. The algorithm operates by initializing a superposition of all possible states and then iteratively amplifying the probability amplitude of the correct solution while diminishing the amplitudes of the incorrect ones. This process is achieved through the application of two main operations: the Oracle, which marks the correct solution, and the Diffusion operator, which amplifies the marked state's probability. After approximately √N iterations, measuring the quantum state yields the correct solution with high probability. Grover's algorithm exemplifies the power of quantum computing to solve specific problems more efficiently than classical counterparts, making it a cornerstone of quantum search techniques."
   ]
  },
  {
   "cell_type": "code",
   "execution_count": 11,
   "id": "e586cb11-bae8-4d82-82c0-9e14255c0afe",
   "metadata": {},
   "outputs": [],
   "source": [
    "import numpy as np\n",
    "import os\n",
    "import dynex\n",
    "import random\n",
    "from tqdm import tqdm\n",
    "from dwave.samplers import SimulatedAnnealingSampler\n",
    "from dimod import BinaryQuadraticModel, SampleSet\n",
    "import matplotlib.pyplot as plt"
   ]
  },
  {
   "cell_type": "markdown",
   "id": "e4c31a18-441e-401c-9d3c-354fe042b298",
   "metadata": {},
   "source": [
    "## Function to create a quantum circuit with all variables in superposition"
   ]
  },
  {
   "cell_type": "code",
   "execution_count": 12,
   "id": "c19fc252-6dd0-4960-804a-99ea052b9acf",
   "metadata": {},
   "outputs": [],
   "source": [
    "def initialize_qubo(matrix_size):\n",
    "    '''\n",
    "    Function to create a quantum circuit with all variables in superposition\n",
    "    '''\n",
    "    # Initialize a QUBO matrix with zeros\n",
    "    size = matrix_size\n",
    "    qubo = np.zeros((size, size))\n",
    "    \n",
    "    # Construct a QUBO matrix with multiple low-energy solutions\n",
    "    for i in range(size):\n",
    "        qubo[i, i] = -1  # Encourages x_i to be 1\n",
    "    \n",
    "    # Add off-diagonal elements to create interactions between different variables\n",
    "    # Ensuring multiple solutions can be done by having multiple possible pairs or sets that minimize the energy\n",
    "    for i in range(size):\n",
    "        for j in range(i+1, size):\n",
    "            qubo[i, j] = 1.0 / (matrix_size-1) * 2 # off-diagonal interactions\n",
    "\n",
    "    # Symmetrize the matrix to ensure QUBO properties\n",
    "    qubo = (qubo + qubo.T) / 2\n",
    "    \n",
    "    return qubo"
   ]
  },
  {
   "cell_type": "markdown",
   "id": "7356166a-c64a-4d0f-998e-e5938fd3d123",
   "metadata": {},
   "source": [
    "This function creates and initiates a quantum circuit with all variables in superposition, spinning between -1.0 and +1.0 volt. To validate the function, we run this circuit multiple times and measure the variable voltages:"
   ]
  },
  {
   "cell_type": "code",
   "execution_count": 13,
   "id": "8db0b955-f5ba-42d3-a55e-cd238593994e",
   "metadata": {},
   "outputs": [
    {
     "name": "stdout",
     "output_type": "stream",
     "text": [
      "[1004. 1013. 1021. 1013. 1014. 1025. 1012.  956.  991.  988. 1027. 1005.\n",
      " 1005.  989.  981.  979. 1004.  980.  987.  994.  979. 1012. 1031.  995.\n",
      " 1013. 1002.  967.  989. 1006. 1007. 1005. 1006.] shots: 2000\n"
     ]
    },
    {
     "data": {
      "image/png": "[encoded data removed]",
      "text/plain": [
       "<Figure size 640x480 with 1 Axes>"
      ]
     },
     "metadata": {},
     "output_type": "display_data"
    }
   ],
   "source": [
    "# Define our parameters:\n",
    "qubits = 32;\n",
    "shots = 2000;\n",
    "\n",
    "# Create the quantum circuit:\n",
    "Q = initialize_qubo(qubits)\n",
    "bqm = BinaryQuadraticModel.from_qubo(Q)\n",
    "\n",
    "# Run the circuit and measure results:\n",
    "solver = SimulatedAnnealingSampler()\n",
    "sampleset = solver.sample(bqm, num_reads=shots, annealing_time=1000)\n",
    "res = np.zeros(qubits)\n",
    "cnt = 0;\n",
    "for s in sampleset.record:\n",
    "    for i in range(0, len(s.sample)):\n",
    "        if s[0][i]==1:\n",
    "            res[i]+=1\n",
    "    cnt += 1;\n",
    "\n",
    "plt.title('Number of positive spins ('+str(cnt)+' shots)');\n",
    "plt.bar(list(sampleset.first.sample), res, alpha=0.2);\n",
    "plt.axhline(y=cnt/2, color='b', linestyle='--');\n",
    "\n",
    "print(res, 'shots:',cnt)"
   ]
  },
  {
   "cell_type": "markdown",
   "id": "1c2f23e0-c2fb-43ac-a904-3826f6944e63",
   "metadata": {},
   "source": [
    "We can observe that the number of positive spins correctly averages at 50% of the number of shots."
   ]
  },
  {
   "cell_type": "markdown",
   "id": "6e96bec1-105d-4470-a405-286cc4653747",
   "metadata": {},
   "source": [
    "## Grover Oracle"
   ]
  },
  {
   "cell_type": "markdown",
   "id": "8d7230dd-e99b-4acc-a345-a412dc9bd14a",
   "metadata": {},
   "source": [
    "The Grover Oracle is a crucial component of Grover's search algorithm, responsible for marking the correct solution among the possible candidates in a quantum search problem. It is a quantum subroutine designed to flip the sign of the amplitude of the correct solution's quantum state, effectively distinguishing it from all other states. The Oracle achieves this by utilizing a black-box function, often represented as 𝑂(𝑥), which outputs 1 for the target solution and 0 for all other inputs. This phase inversion is essential for the iterative amplification process in Grover's algorithm, as it sets the stage for the subsequent Diffusion operator to increase the probability of measuring the correct solution. By precisely marking the target state, the Grover Oracle enables the algorithm to converge towards the correct solution with quadratic speedup, highlighting its fundamental role in the efficiency of quantum search."
   ]
  },
  {
   "cell_type": "code",
   "execution_count": 14,
   "id": "59b4e548-a599-4583-ac96-f6a039358f17",
   "metadata": {},
   "outputs": [],
   "source": [
    "def grover_oracle(target_index, num_elements):\n",
    "    '''\n",
    "    Grover Oracle black box function which marks the correct solution among the possible candidates\n",
    "    in a quantum search problem\n",
    "    '''\n",
    "    # Initialise all qubits in superposition:\n",
    "    Q = initialize_qubo(num_elements);\n",
    "    # O(x) function outputs 1 for the target solution and 0 for all other inputs:\n",
    "    for q in range(0,num_elements):\n",
    "        Q[q,q] = 2.0\n",
    "    # Flip sign for target index:\n",
    "    Q[(target_index, target_index)] = -2.0\n",
    "    return Q"
   ]
  },
  {
   "cell_type": "markdown",
   "id": "3b3912d8-9daa-4b73-88c9-6cec36b792ad",
   "metadata": {},
   "source": [
    "## Diffusion Operator"
   ]
  },
  {
   "cell_type": "markdown",
   "id": "566ea1ea-ef7f-4535-8620-3d1ef67efae1",
   "metadata": {},
   "source": [
    "The Diffusion Operator, also known as the Grover Diffusion Operator or the Inversion about the Mean, is a key component in Grover's search algorithm that amplifies the probability amplitude of the correct solution. After the Oracle marks the correct state by flipping its amplitude, the Diffusion Operator performs an inversion about the average amplitude of all states. This process enhances the marked state's amplitude while reducing the amplitudes of the incorrect states, effectively concentrating the probability distribution towards the correct solution. Mathematically, it involves reflecting the quantum state vector through the uniform superposition state. By repeatedly applying the Oracle and the Diffusion Operator, Grover's algorithm iteratively increases the likelihood of measuring the correct solution. The Diffusion Operator is thus vital in the quadratic speedup achieved by the algorithm, enabling it to solve search problems more efficiently than classical methods."
   ]
  },
  {
   "cell_type": "code",
   "execution_count": 15,
   "id": "d2b250bf-010e-4084-8c55-0eb20ad06528",
   "metadata": {},
   "outputs": [],
   "source": [
    "def initialise_diffusion_operator(num_bits):\n",
    "    '''\n",
    "    Initialises the Diffusion operator which amplifies the probability amplitude of the correct solution\n",
    "    '''\n",
    "    Q = {}\n",
    "    for i in range(2**num_bits):\n",
    "        Q[(i, i)] = 1\n",
    "    return Q"
   ]
  },
  {
   "cell_type": "markdown",
   "id": "e7c8b309-0604-419e-b753-65ca7706a712",
   "metadata": {},
   "source": [
    "## Grover Quantum Search on Dynex"
   ]
  },
  {
   "cell_type": "markdown",
   "id": "e06c8ac0-7130-44dc-9656-6adcb3793f7d",
   "metadata": {},
   "source": [
    "We will apply Grover's search algorithm to find an element in a unstructured dataset as defined as:"
   ]
  },
  {
   "cell_type": "code",
   "execution_count": 16,
   "id": "38ca51af-dc8a-4f94-b8e5-da58b1538e7f",
   "metadata": {},
   "outputs": [],
   "source": [
    "# Define the dataset and target value\n",
    "dataset = [12, 5, 7, 14, 6, 11, 9, 10, 13, 2, 3, 8, 4, 15, 0, 1, 16, 17, 18, 19, 20, 21, 22, 23, 24, 25, 26, 27, 28, 29, 30, 31]\n",
    "target_value = 15"
   ]
  },
  {
   "cell_type": "markdown",
   "id": "71a17ff6-a534-48b3-934c-7d6099759df0",
   "metadata": {},
   "source": [
    "Next we convert the dataset to binary format (if needed) and find the target index:"
   ]
  },
  {
   "cell_type": "code",
   "execution_count": 17,
   "id": "1d30c63e-425d-477e-83fa-274cbf612dbf",
   "metadata": {},
   "outputs": [
    {
     "name": "stdout",
     "output_type": "stream",
     "text": [
      "num_elements: 32 num_bits: 5 target_index: 13\n"
     ]
    }
   ],
   "source": [
    "# Convert the dataset to a binary format if needed and find the target index\n",
    "num_elements = len(dataset)\n",
    "num_bits = int(np.ceil(np.log2(num_elements)))\n",
    "target_index = dataset.index(target_value)\n",
    "print('num_elements:',num_elements,'num_bits:',num_bits,'target_index:',target_index)"
   ]
  },
  {
   "cell_type": "markdown",
   "id": "9d10d688-50d7-4319-a5d3-c90af5f7ad27",
   "metadata": {},
   "source": [
    "We construct and initialise our Grover quantum circuit:"
   ]
  },
  {
   "cell_type": "code",
   "execution_count": 18,
   "id": "3d742e46-7ebb-49e9-a4af-e4a51b18e9e3",
   "metadata": {},
   "outputs": [],
   "source": [
    "# Create Oracle\n",
    "oracle_qubo = grover_oracle(target_index, num_elements)\n",
    "oracle_bqm = BinaryQuadraticModel.from_qubo(oracle_qubo)\n",
    "\n",
    "# Create Diffusion QUBO\n",
    "diffusion_qubo = initialise_diffusion_operator(num_bits)\n",
    "diffusion_bqm = BinaryQuadraticModel.from_qubo(diffusion_qubo)"
   ]
  },
  {
   "cell_type": "markdown",
   "id": "3fa2aa93-5652-4f10-88c6-75485b6793b2",
   "metadata": {},
   "source": [
    "The following function performs a Grover iteration by querying the oracle and applying the diffusion operator to the output:"
   ]
  },
  {
   "cell_type": "code",
   "execution_count": 32,
   "id": "63158279-4a15-4276-b4a5-e26f46ed4029",
   "metadata": {},
   "outputs": [],
   "source": [
    "def grover_iteration(oracle_bqm, diffusion_bqm):\n",
    "    '''\n",
    "    Grover iteration step querying the oracle and applying the diffusion operator. Each step requires two calls to \n",
    "    the Dynex platform\n",
    "    '''\n",
    "    # Apply the oracle\n",
    "    sampleset_oracle = dynex.sample(oracle_bqm, mainnet=False, num_reads=1000, annealing_time = 1000, logging=False)\n",
    "    best_sample = sampleset_oracle.first.sample\n",
    "\n",
    "    # Update the diffusion operator to reflect the oracle's output\n",
    "    for v in diffusion_bqm.variables:\n",
    "        diffusion_bqm.add_linear(v, -2 * best_sample[v])\n",
    "   \n",
    "    # Apply the diffusion operator\n",
    "    sampleset_diffusion = dynex.sample(diffusion_bqm, mainnet=False, num_reads=1000, annealing_time = 1000, logging=False)\n",
    "    \n",
    "    return sampleset_diffusion, diffusion_bqm"
   ]
  },
  {
   "cell_type": "markdown",
   "id": "180ce81e-f6e3-4626-99b8-6266fc2389ce",
   "metadata": {},
   "source": [
    "And finally perform Grover's algorithm:"
   ]
  },
  {
   "cell_type": "code",
   "execution_count": 33,
   "id": "37337897-111c-4c0e-b86a-5b6a938de4ec",
   "metadata": {},
   "outputs": [
    {
     "name": "stdout",
     "output_type": "stream",
     "text": [
      "num_iterations (max SQRT of elements): 4\n"
     ]
    },
    {
     "name": "stderr",
     "output_type": "stream",
     "text": [
      "100%|███████████████████████████████████████████████████████████████████████████████████████████████████████████████████████████████████████████████████████████████████████████████████| 4/4 [00:24<00:00,  6.03s/it]"
     ]
    },
    {
     "name": "stdout",
     "output_type": "stream",
     "text": [
      "Best sample:  {0: 0, 1: 0, 2: 0, 3: 0, 4: 0, 5: 0, 6: 0, 7: 0, 8: 0, 9: 0, 10: 0, 11: 0, 12: 0, 13: 1, 14: 0, 15: 0, 16: 0, 17: 0, 18: 0, 19: 0, 20: 0, 21: 0, 22: 0, 23: 0, 24: 0, 25: 0, 26: 0, 27: 0, 28: 0, 29: 0, 30: 0, 31: 0}\n",
      "Best index:  13\n",
      "Dataset value at best index:  15 target was 15\n",
      "Energy:  -29.0\n",
      "SUCCESS. GROVER SEARCH FOUND THE TARGET VALUE IN 4 ITERATIONS\n"
     ]
    },
    {
     "name": "stderr",
     "output_type": "stream",
     "text": [
      "\n"
     ]
    }
   ],
   "source": [
    "# Perform Grover's algorithm iterations\n",
    "num_iterations = int(np.pi / 4 * np.sqrt(num_elements))\n",
    "print('num_iterations (max SQRT of elements):',num_iterations)\n",
    "for _ in tqdm(range(num_iterations)):\n",
    "    sampleset, diffusion_bqm = grover_iteration(oracle_bqm, diffusion_bqm)\n",
    "\n",
    "# Output the result\n",
    "best_sample = sampleset.first.sample\n",
    "\n",
    "# Convert the binary sample to an index\n",
    "best_index = list(best_sample.values()).index(1);\n",
    "\n",
    "print(\"Best sample: \", best_sample)\n",
    "print(\"Best index: \", best_index)\n",
    "print(\"Dataset value at best index: \", dataset[best_index], 'target was',target_value)\n",
    "print(\"Energy: \", sampleset.first.energy)\n",
    "\n",
    "if dataset[best_index]==target_value:\n",
    "    print('SUCCESS. GROVER SEARCH FOUND THE TARGET VALUE IN',num_iterations,'ITERATIONS');"
   ]
  },
  {
   "cell_type": "markdown",
   "id": "56f7c037-b1f4-43d7-8630-6efb3d031381",
   "metadata": {},
   "source": [
    "We can visualise the qubit voltages at the end of the Grover iterations:"
   ]
  },
  {
   "cell_type": "code",
   "execution_count": 43,
   "id": "5b10a25f-4849-495f-a1f4-e45fce27fbb0",
   "metadata": {},
   "outputs": [
    {
     "data": {
      "image/png": "[encoded data removed]",
      "text/plain": [
       "<Figure size 640x480 with 1 Axes>"
      ]
     },
     "metadata": {},
     "output_type": "display_data"
    }
   ],
   "source": [
    "plt.title('Qubit voltages after '+str(num_iterations)+' Grover iterations');\n",
    "plt.bar(list(best_sample), list(best_sample.values()), alpha=0.2);"
   ]
  },
  {
   "cell_type": "markdown",
   "id": "7748486f-913d-4950-878d-4b6483ebd526",
   "metadata": {},
   "source": [
    "The Dynex Grover Search algorithm demonstrated remarkable efficiency by finding the solution in a database of 32 elements in just 4 iterations. This performance aligns perfectly with the expected quadratic speedup of Grover's algorithm, which theoretically requires 𝑂(𝑁) iterations, where \n",
    "𝑁 is the number of elements. In this case, 32 approximates to 4, illustrating that the Dynex implementation achieved optimal performance. This is significantly faster than traditional linear search methods, which would typically require up to 32 iterations to find the target element in the worst case. The successful application of the Dynex Grover Search algorithm not only validates the theoretical speedup of quantum search algorithms but also underscores the potential of quantum computing to outperform classical approaches in solving complex search problems."
   ]
  },
  {
   "cell_type": "code",
   "execution_count": null,
   "id": "e0aba1f7-7fa0-4a4e-8fc8-d3e9765c79f5",
   "metadata": {},
   "outputs": [],
   "source": []
  }
 ],
 "metadata": {
  "kernelspec": {
   "display_name": "Python 3 (ipykernel)",
   "language": "python",
   "name": "python3"
  },
  "language_info": {
   "codemirror_mode": {
    "name": "ipython",
    "version": 3
   },
   "file_extension": ".py",
   "mimetype": "text/x-python",
   "name": "python",
   "nbconvert_exporter": "python",
   "pygments_lexer": "ipython3",
   "version": "3.10.12"
  }
 },
 "nbformat": 4,
 "nbformat_minor": 5
}
